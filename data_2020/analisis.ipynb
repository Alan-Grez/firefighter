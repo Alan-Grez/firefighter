{
 "cells": [
  {
   "cell_type": "markdown",
   "metadata": {},
   "source": [
    "# Tratamiento de datos"
   ]
  },
  {
   "cell_type": "markdown",
   "metadata": {},
   "source": [
    "En este módulo, trataremos de visualizar los llamados y tratar de hacer predicciones."
   ]
  },
  {
   "cell_type": "code",
   "execution_count": 1,
   "metadata": {},
   "outputs": [],
   "source": [
    "import numpy as np\n",
    "import pandas as pd\n",
    "import seaborn as sns \n",
    "import matplotlib.pyplot as plt\n",
    "\n",
    "%matplotlib inline\n",
    "import geopy as gp"
   ]
  },
  {
   "cell_type": "code",
   "execution_count": 2,
   "metadata": {},
   "outputs": [
    {
     "data": {
      "text/html": [
       "<div>\n",
       "<style scoped>\n",
       "    .dataframe tbody tr th:only-of-type {\n",
       "        vertical-align: middle;\n",
       "    }\n",
       "\n",
       "    .dataframe tbody tr th {\n",
       "        vertical-align: top;\n",
       "    }\n",
       "\n",
       "    .dataframe thead th {\n",
       "        text-align: right;\n",
       "    }\n",
       "</style>\n",
       "<table border=\"1\" class=\"dataframe\">\n",
       "  <thead>\n",
       "    <tr style=\"text-align: right;\">\n",
       "      <th></th>\n",
       "      <th>fecha</th>\n",
       "      <th>tipo_de_servicio</th>\n",
       "      <th>direccion</th>\n",
       "      <th>esquina</th>\n",
       "      <th>lugar</th>\n",
       "      <th>sector</th>\n",
       "    </tr>\n",
       "  </thead>\n",
       "  <tbody>\n",
       "    <tr>\n",
       "      <th>0</th>\n",
       "      <td>2020-01-01 00:15:00</td>\n",
       "      <td>10.2</td>\n",
       "      <td>CAUPOLICAN</td>\n",
       "      <td>MIGUEL ANGEL</td>\n",
       "      <td>CASA HABITACIÓN</td>\n",
       "      <td>8</td>\n",
       "    </tr>\n",
       "    <tr>\n",
       "      <th>1</th>\n",
       "      <td>2020-01-01 02:18:00</td>\n",
       "      <td>10.3</td>\n",
       "      <td>AMÉRICO VESPUCIO</td>\n",
       "      <td>LOS PAJARITOS</td>\n",
       "      <td>VÍA PÚBLICA</td>\n",
       "      <td>29</td>\n",
       "    </tr>\n",
       "    <tr>\n",
       "      <th>2</th>\n",
       "      <td>2020-01-01 04:50:00</td>\n",
       "      <td>10.4</td>\n",
       "      <td>LOS PAJARITOS</td>\n",
       "      <td>ANUNCIACIÓN</td>\n",
       "      <td>VÍA PÚBLICA</td>\n",
       "      <td>14</td>\n",
       "    </tr>\n",
       "    <tr>\n",
       "      <th>3</th>\n",
       "      <td>2020-01-01 04:50:00</td>\n",
       "      <td>10.4</td>\n",
       "      <td>LOS PAJARITOS</td>\n",
       "      <td>ANUNCIACIÓN</td>\n",
       "      <td>VÍA PÚBLICA</td>\n",
       "      <td>14</td>\n",
       "    </tr>\n",
       "    <tr>\n",
       "      <th>4</th>\n",
       "      <td>2020-01-01 11:07:00</td>\n",
       "      <td>10.9</td>\n",
       "      <td>EL MAITEN</td>\n",
       "      <td>LOS CEIBOS</td>\n",
       "      <td>CASA HABITACIÓN</td>\n",
       "      <td>7</td>\n",
       "    </tr>\n",
       "  </tbody>\n",
       "</table>\n",
       "</div>"
      ],
      "text/plain": [
       "                 fecha  tipo_de_servicio         direccion        esquina  \\\n",
       "0  2020-01-01 00:15:00              10.2        CAUPOLICAN   MIGUEL ANGEL   \n",
       "1  2020-01-01 02:18:00              10.3  AMÉRICO VESPUCIO  LOS PAJARITOS   \n",
       "2  2020-01-01 04:50:00              10.4     LOS PAJARITOS    ANUNCIACIÓN   \n",
       "3  2020-01-01 04:50:00              10.4     LOS PAJARITOS    ANUNCIACIÓN   \n",
       "4  2020-01-01 11:07:00              10.9         EL MAITEN     LOS CEIBOS   \n",
       "\n",
       "             lugar  sector  \n",
       "0  CASA HABITACIÓN       8  \n",
       "1      VÍA PÚBLICA      29  \n",
       "2      VÍA PÚBLICA      14  \n",
       "3      VÍA PÚBLICA      14  \n",
       "4  CASA HABITACIÓN       7  "
      ]
     },
     "execution_count": 2,
     "metadata": {},
     "output_type": "execute_result"
    }
   ],
   "source": [
    "df = pd.read_csv(\"data_2020.csv\").drop(columns =['c_g','c_e','6_3','6_9','6_10','material_concurrente'])\n",
    "df.head(5)"
   ]
  },
  {
   "cell_type": "markdown",
   "metadata": {},
   "source": [
    "Veamos un poco de Visualización de datos."
   ]
  },
  {
   "cell_type": "code",
   "execution_count": 3,
   "metadata": {
    "scrolled": false
   },
   "outputs": [
    {
     "data": {
      "text/plain": [
       "<matplotlib.axes._subplots.AxesSubplot at 0x1f210a5f0a0>"
      ]
     },
     "execution_count": 3,
     "metadata": {},
     "output_type": "execute_result"
    },
    {
     "data": {
      "image/png": "[encoded data removed]",
      "text/plain": [
       "<Figure size 1080x360 with 2 Axes>"
      ]
     },
     "metadata": {
      "needs_background": "light"
     },
     "output_type": "display_data"
    }
   ],
   "source": [
    "fig, axs = plt.subplots(1, 2 , figsize=(15, 5) )\n",
    "\n",
    "plt.xticks(rotation=-45)\n",
    "\n",
    "axs[0].set_title(\" Estadísticas por servicio. \")\n",
    "axs[1].set_title(\" Estadísticas por sector. \")\n",
    "\n",
    "sns.countplot(x=\"tipo_de_servicio\", data=df, ax = axs[0])\n",
    "sns.countplot(x=\"sector\", data=df, ax = axs[1])"
   ]
  },
  {
   "cell_type": "code",
   "execution_count": 4,
   "metadata": {},
   "outputs": [
    {
     "ename": "ModuleNotFoundError",
     "evalue": "No module named 'osmnx'",
     "output_type": "error",
     "traceback": [
      "\u001b[1;31m---------------------------------------------------------------------------\u001b[0m",
      "\u001b[1;31mModuleNotFoundError\u001b[0m                       Traceback (most recent call last)",
      "\u001b[1;32m<ipython-input-4-497fcd262f04>\u001b[0m in \u001b[0;36m<module>\u001b[1;34m\u001b[0m\n\u001b[0;32m      4\u001b[0m \u001b[1;32mimport\u001b[0m \u001b[0mfolium\u001b[0m\u001b[1;33m\u001b[0m\u001b[1;33m\u001b[0m\u001b[0m\n\u001b[0;32m      5\u001b[0m \u001b[1;32mimport\u001b[0m \u001b[0mnetworkx\u001b[0m \u001b[1;32mas\u001b[0m \u001b[0mnx\u001b[0m\u001b[1;33m\u001b[0m\u001b[1;33m\u001b[0m\u001b[0m\n\u001b[1;32m----> 6\u001b[1;33m \u001b[1;32mimport\u001b[0m \u001b[0mosmnx\u001b[0m \u001b[1;32mas\u001b[0m \u001b[0mox\u001b[0m\u001b[1;33m\u001b[0m\u001b[1;33m\u001b[0m\u001b[0m\n\u001b[0m\u001b[0;32m      7\u001b[0m \u001b[1;32mimport\u001b[0m \u001b[0mgeopandas\u001b[0m \u001b[1;32mas\u001b[0m \u001b[0mgpd\u001b[0m\u001b[1;33m\u001b[0m\u001b[1;33m\u001b[0m\u001b[0m\n\u001b[0;32m      8\u001b[0m \u001b[1;32mfrom\u001b[0m \u001b[0mshapely\u001b[0m\u001b[1;33m.\u001b[0m\u001b[0mgeometry\u001b[0m \u001b[1;32mimport\u001b[0m \u001b[0mPoint\u001b[0m\u001b[1;33m,\u001b[0m \u001b[0mPolygon\u001b[0m\u001b[1;33m,\u001b[0m \u001b[0mLineString\u001b[0m\u001b[1;33m,\u001b[0m \u001b[0mMultiLineString\u001b[0m\u001b[1;33m\u001b[0m\u001b[1;33m\u001b[0m\u001b[0m\n",
      "\u001b[1;31mModuleNotFoundError\u001b[0m: No module named 'osmnx'"
     ]
    }
   ],
   "source": [
    "from math import radians, cos, sin, asin, sqrt, atan2\n",
    "import matplotlib as mpl\n",
    "from pylab import rcParams\n",
    "import folium\n",
    "import networkx as nx\n",
    "import osmnx as ox\n",
    "import geopandas as gpd\n",
    "from shapely.geometry import Point, Polygon, LineString, MultiLineString\n",
    "import shapefile as shp\n",
    "import gpd_lite_toolbox as glt\n",
    "from gpd_lite_toolbox.utils_carto import m_plot_dataframe, m_plot_multipolygon\n",
    "import warnings\n",
    "warnings.filterwarnings('ignore')"
   ]
  }
 ],
 "metadata": {
  "kernelspec": {
   "display_name": "Python 3",
   "language": "python",
   "name": "python3"
  },
  "language_info": {
   "codemirror_mode": {
    "name": "ipython",
    "version": 3
   },
   "file_extension": ".py",
   "mimetype": "text/x-python",
   "name": "python",
   "nbconvert_exporter": "python",
   "pygments_lexer": "ipython3",
   "version": "3.8.3"
  }
 },
 "nbformat": 4,
 "nbformat_minor": 4
}
